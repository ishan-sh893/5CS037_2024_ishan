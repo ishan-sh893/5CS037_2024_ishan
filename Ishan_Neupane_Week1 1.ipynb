{
  "nbformat": 4,
  "nbformat_minor": 0,
  "metadata": {
    "colab": {
      "provenance": []
    },
    "kernelspec": {
      "name": "python3",
      "display_name": "Python 3"
    },
    "language_info": {
      "name": "python"
    }
  },
  "cells": [
    {
      "cell_type": "code",
      "execution_count": null,
      "metadata": {
        "colab": {
          "base_uri": "https://localhost:8080/"
        },
        "id": "gd-DtJZUwQVB",
        "outputId": "9b25f4bc-3788-41b2-dd07-12272e8af2e3"
      },
      "outputs": [
        {
          "output_type": "stream",
          "name": "stdout",
          "text": [
            "5\n"
          ]
        }
      ],
      "source": [
        "a=5\n",
        "print(a)"
      ]
    },
    {
      "cell_type": "code",
      "source": [
        "hrs = input (\"Enter hours: \")\n",
        "h = float(hrs)\n",
        "rate = input(\"Enter the rate per hour: \")\n",
        "r = float(rate)\n",
        "if h <= 40:\n",
        "  wages = h * r\n",
        "elif h > 40:\n",
        "  wages = 40 * r + (h - 40) * (r * 1.5)\n",
        "print(wages)"
      ],
      "metadata": {
        "id": "-GwRqMyDybK4",
        "colab": {
          "base_uri": "https://localhost:8080/"
        },
        "outputId": "a50d202a-8d1e-41e2-e471-06167b1b9b89"
      },
      "execution_count": null,
      "outputs": [
        {
          "output_type": "stream",
          "name": "stdout",
          "text": [
            "Enter hours: 45\n",
            "Enter the rate per hour: 5\n",
            "237.5\n"
          ]
        }
      ]
    },
    {
      "cell_type": "code",
      "source": [
        "def order_number(number1, number2):\n",
        "  if number2 > number1:\n",
        "    return number1, number2\n",
        "  else:\n",
        "      return number2, number1\n",
        "\n",
        "smaller, bigger = order_number(100,99)\n",
        "print(smaller,bigger)"
      ],
      "metadata": {
        "colab": {
          "base_uri": "https://localhost:8080/"
        },
        "id": "LgK4TOJ68AkS",
        "outputId": "7e80272f-5995-4a36-c672-5a5c15c7fb43"
      },
      "execution_count": null,
      "outputs": [
        {
          "output_type": "stream",
          "name": "stdout",
          "text": [
            "99 100\n"
          ]
        }
      ]
    },
    {
      "cell_type": "code",
      "source": [
        "def fib(n):\n",
        "  count = 0\n",
        "  n1 = 0\n",
        "  n2 = 1\n",
        "  while count < n:\n",
        "    print(n1)\n",
        "    c= n1+n2\n",
        "    n1 = n2\n",
        "    n2 = c\n",
        "    count += 1\n",
        "print(fib(5))"
      ],
      "metadata": {
        "colab": {
          "base_uri": "https://localhost:8080/"
        },
        "id": "j8rY5wcX9HaK",
        "outputId": "fb53c643-1d87-479c-cd71-a6e138cfe39e"
      },
      "execution_count": null,
      "outputs": [
        {
          "output_type": "stream",
          "name": "stdout",
          "text": [
            "0\n",
            "1\n",
            "1\n",
            "2\n",
            "3\n",
            "None\n"
          ]
        }
      ]
    },
    {
      "cell_type": "code",
      "source": [
        "def SumDigits(n):\n",
        "  num_str = str(n)\n",
        "  sum = 0\n",
        "  for digit in num_str:\n",
        "    num = int(digit)\n",
        "    sum += num\n",
        "  print(sum)\n",
        "\n",
        "print(SumDigits(234))"
      ],
      "metadata": {
        "colab": {
          "base_uri": "https://localhost:8080/"
        },
        "id": "uK8T51w29mHJ",
        "outputId": "5b379adc-cf16-48c2-a76c-f1540ae4d279"
      },
      "execution_count": null,
      "outputs": [
        {
          "output_type": "stream",
          "name": "stdout",
          "text": [
            "9\n",
            "None\n"
          ]
        }
      ]
    },
    {
      "cell_type": "code",
      "source": [
        "def squaredSum(array):\n",
        "  sum = 0\n",
        "  for numbers in array:\n",
        "    number = numbers ** 2\n",
        "    sum += number\n",
        "  print(sum)\n",
        "array = [2,3,4]\n",
        "print(squaredSum(array))"
      ],
      "metadata": {
        "colab": {
          "base_uri": "https://localhost:8080/"
        },
        "id": "pY-Mxqaw-dk9",
        "outputId": "4a17fe63-80fd-4da8-d29f-9d7335c2968b"
      },
      "execution_count": null,
      "outputs": [
        {
          "output_type": "stream",
          "name": "stdout",
          "text": [
            "29\n",
            "None\n"
          ]
        }
      ]
    },
    {
      "cell_type": "code",
      "source": [
        "def myPow(x,n):\n",
        "  result = 1\n",
        "  for i in range(n):\n",
        "    result *= x\n",
        "  return result\n",
        "print(myPow(5,3))"
      ],
      "metadata": {
        "colab": {
          "base_uri": "https://localhost:8080/"
        },
        "id": "oriKBPYG_lEL",
        "outputId": "975d8579-93a1-42d6-a5a4-10cea92a2fe1"
      },
      "execution_count": null,
      "outputs": [
        {
          "output_type": "stream",
          "name": "stdout",
          "text": [
            "125\n"
          ]
        }
      ]
    },
    {
      "cell_type": "code",
      "source": [
        "def SumDigits(num):\n",
        "  sum = 0\n",
        "  for i in range(num +1):\n",
        "    sum += i\n",
        "  print(sum)\n",
        "print(SumDigits(6))"
      ],
      "metadata": {
        "colab": {
          "base_uri": "https://localhost:8080/"
        },
        "id": "k3FRT5ZXBDgB",
        "outputId": "b5002000-ba8f-4d85-bf22-50d22a7a6032"
      },
      "execution_count": null,
      "outputs": [
        {
          "output_type": "stream",
          "name": "stdout",
          "text": [
            "21\n",
            "None\n"
          ]
        }
      ]
    },
    {
      "cell_type": "markdown",
      "source": [],
      "metadata": {
        "id": "YCWj4TXALzph"
      }
    },
    {
      "cell_type": "code",
      "source": [
        "import time\n",
        "import numpy as np\n",
        "\n",
        "# Element-wise Addition\n",
        "def element_wise_addition():\n",
        "    size = 1_000_000\n",
        "    list1 = [i for i in range(size)]\n",
        "    list2 = [i for i in range(size)]\n",
        "    array1 = np.arange(size)\n",
        "    array2 = np.arange(size)\n",
        "\n",
        "    # Using Python Lists\n",
        "    start_time = time.time()\n",
        "    list_result = [list1[i] + list2[i] for i in range(size)]\n",
        "    list_time = time.time() - start_time\n",
        "    print(f\"Element-wise Addition with Python Lists: {list_time:.4f} seconds\")\n",
        "\n",
        "    # Using NumPy Arrays\n",
        "    start_time = time.time()\n",
        "    array_result = array1 + array2\n",
        "    numpy_time = time.time() - start_time\n",
        "    print(f\"Element-wise Addition with NumPy Arrays: {numpy_time:.4f} seconds\")\n",
        "\n",
        "# Element-wise Multiplication\n",
        "def element_wise_multiplication():\n",
        "    size = 1_000_000\n",
        "    list1 = [i for i in range(size)]\n",
        "    list2 = [i for i in range(size)]\n",
        "    array1 = np.arange(size)\n",
        "    array2 = np.arange(size)\n",
        "\n",
        "    # Using Python Lists\n",
        "    start_time = time.time()\n",
        "    list_result = [list1[i] * list2[i] for i in range(size)]\n",
        "    list_time = time.time() - start_time\n",
        "    print(f\"Element-wise Multiplication with Python Lists: {list_time:.4f} seconds\")\n",
        "\n",
        "    # Using NumPy Arrays\n",
        "    start_time = time.time()\n",
        "    array_result = array1 * array2\n",
        "    numpy_time = time.time() - start_time\n",
        "    print(f\"Element-wise Multiplication with NumPy Arrays: {numpy_time:.4f} seconds\")\n",
        "\n",
        "# Dot Product\n",
        "def dot_product():\n",
        "    size = 1_000_000\n",
        "    list1 = [i for i in range(size)]\n",
        "    list2 = [i for i in range(size)]\n",
        "    array1 = np.arange(size)\n",
        "    array2 = np.arange(size)\n",
        "\n",
        "    # Using Python Lists\n",
        "    start_time = time.time()\n",
        "    dot_product = sum(list1[i] * list2[i] for i in range(size))\n",
        "    list_time = time.time() - start_time\n",
        "    print(f\"Dot Product with Python Lists: {list_time:.4f} seconds\")\n",
        "\n",
        "    # Using NumPy Arrays\n",
        "    start_time = time.time()\n",
        "    dot_product = np.dot(array1, array2)\n",
        "    numpy_time = time.time() - start_time\n",
        "    print(f\"Dot Product with NumPy Arrays: {numpy_time:.4f} seconds\")\n",
        "\n",
        "# Matrix Multiplication\n",
        "def matrix_multiplication():\n",
        "    size = 1000\n",
        "    matrix1 = [[i for i in range(size)] for _ in range(size)]\n",
        "    matrix2 = [[i for i in range(size)] for _ in range(size)]\n",
        "    np_matrix1 = np.array(matrix1)\n",
        "    np_matrix2 = np.array(matrix2)\n",
        "\n",
        "    # Using Python Lists\n",
        "    start_time = time.time()\n",
        "    result = [[sum(matrix1[i][k] * matrix2[k][j] for k in range(size)) for j in range(size)] for i in range(size)]\n",
        "    list_time = time.time() - start_time\n",
        "    print(f\"Matrix Multiplication with Python Lists: {list_time:.4f} seconds\")\n",
        "\n",
        "    # Using NumPy Arrays\n",
        "    start_time = time.time()\n",
        "    result = np.dot(np_matrix1, np_matrix2)\n",
        "    numpy_time = time.time() - start_time\n",
        "    print(f\"Matrix Multiplication with NumPy Arrays: {numpy_time:.4f} seconds\")\n",
        "\n",
        "# Run the experiments\n",
        "element_wise_addition()\n",
        "element_wise_multiplication()\n",
        "dot_product()\n",
        "matrix_multiplication()"
      ],
      "metadata": {
        "colab": {
          "base_uri": "https://localhost:8080/"
        },
        "id": "TFFbilRvL0m1",
        "outputId": "97f022ad-1770-47f2-c8f6-a5785034bd0d"
      },
      "execution_count": 2,
      "outputs": [
        {
          "output_type": "stream",
          "name": "stdout",
          "text": [
            "Element-wise Addition with Python Lists: 0.1350 seconds\n",
            "Element-wise Addition with NumPy Arrays: 0.0049 seconds\n",
            "Element-wise Multiplication with Python Lists: 0.1469 seconds\n",
            "Element-wise Multiplication with NumPy Arrays: 0.0054 seconds\n",
            "Dot Product with Python Lists: 0.1383 seconds\n",
            "Dot Product with NumPy Arrays: 0.0018 seconds\n",
            "Matrix Multiplication with Python Lists: 237.1347 seconds\n",
            "Matrix Multiplication with NumPy Arrays: 1.1902 seconds\n"
          ]
        }
      ]
    }
  ]
}